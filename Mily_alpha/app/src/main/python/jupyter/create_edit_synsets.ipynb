{
 "cells": [
  {
   "cell_type": "markdown",
   "metadata": {},
   "source": [
    "# Create and edit synsets\n",
    "\n",
    "This demo shows how to create and edit synsets & relations.\n",
    "\n",
    "A synset is the building block of a WordNet is the synset that expresses a unique concept. The synset (a synonym set) contains, as the name implies, a number of synonym words known as literals. The synset has more properties like a definition and links to other synsets. They also have a part-of-speech (pos) that groups them in four categories: nouns, verbs, adverbs and adjectives. Synsets are interlinked by semantic relations like hypernymy (\"is-a\"), meronymy (\"is-part\"), antonymy, and others.\n",
    "\n",
    "Let's start by creating a synset. "
   ]
  },
  {
   "cell_type": "code",
   "execution_count": 1,
   "metadata": {},
   "outputs": [],
   "source": [
    "from rowordnet import Synset\n",
    "\n",
    "id = \"my_id\"\n",
    "synset = Synset(id)"
   ]
  },
  {
   "cell_type": "markdown",
   "metadata": {},
   "source": [
    "Print the synset."
   ]
  },
  {
   "cell_type": "code",
   "execution_count": 2,
   "metadata": {},
   "outputs": [
    {
     "name": "stdout",
     "output_type": "stream",
     "text": [
      "Synset(id='my_id', literals=[], definition=None)\n"
     ]
    }
   ],
   "source": [
    "print(synset)"
   ]
  },
  {
   "cell_type": "markdown",
   "metadata": {},
   "source": [
    "Each synset belongs to a part of speech: NOUN, VERB, ADVERB, ADJECTIVE. We can set it by using the property ``pos`` and provide a member of the enumeration Pos."
   ]
  },
  {
   "cell_type": "code",
   "execution_count": 3,
   "metadata": {},
   "outputs": [],
   "source": [
    "# set a pos of type verb\n",
    "pos = Synset.Pos.VERB\n",
    "synset.pos = pos"
   ]
  },
  {
   "cell_type": "markdown",
   "metadata": {},
   "source": [
    "As we modified the ``pos`` property, we can modify any property by simply accesing it.\n",
    "\n",
    "As you can see, this synset has no literals. A literal is a word(synonym) that belongs to this synset. We can add a new literal with the ``add_literal()`` function."
   ]
  },
  {
   "cell_type": "code",
   "execution_count": 4,
   "metadata": {},
   "outputs": [
    {
     "name": "stdout",
     "output_type": "stream",
     "text": [
      "Number of literals for synset with id 'my_id': 1\n"
     ]
    }
   ],
   "source": [
    "literal = \"tigru\"\n",
    "synset.add_literal(literal)\n",
    "print(\"Number of literals for synset with id '{}': {}\".format(synset.id, len(synset.literals)))"
   ]
  },
  {
   "cell_type": "markdown",
   "metadata": {},
   "source": [
    "We can also remove the previous literal from the synset. "
   ]
  },
  {
   "cell_type": "code",
   "execution_count": 5,
   "metadata": {},
   "outputs": [
    {
     "name": "stdout",
     "output_type": "stream",
     "text": [
      "Number of literals for synset with id 'my_id': 0\n"
     ]
    }
   ],
   "source": [
    "synset.remove_literal(literal)\n",
    "print(\"Number of literals for synset with id '{}': {}\".format(synset.id, len(synset.literals)))"
   ]
  },
  {
   "cell_type": "markdown",
   "metadata": {},
   "source": [
    "To generate an id, it's recomanded to use the already build in function ``generate_id`` from RoWordNet class. You can use the default suffix and prefix, or you can provide your own."
   ]
  },
  {
   "cell_type": "code",
   "execution_count": 6,
   "metadata": {},
   "outputs": [
    {
     "name": "stdout",
     "output_type": "stream",
     "text": [
      "New id 'ENG30-15300052-n' generated with default prefix 'ENG30-' and suffix '-n'\n",
      "New id 'ENG31-00000001-v' generated with prefix 'ENG31-' and suffix '-v'\n"
     ]
    }
   ],
   "source": [
    "import rowordnet\n",
    "\n",
    "# generate a new id with default prefix and suffix\n",
    "wn = rowordnet.RoWordNet()\n",
    "id = wn.generate_synset_id()\n",
    "print(\"New id '{}' generated with default prefix 'ENG30-' and suffix '-n'\".format(id))\n",
    "\n",
    "# generate a new id with custom prefix and suffix\n",
    "prefix = 'ENG31-'\n",
    "suffix = '-v'\n",
    "new_id = wn.generate_synset_id(prefix=prefix, suffix=suffix)\n",
    "print(\"New id '{}' generated with prefix '{}' and suffix '{}'\".format(new_id, prefix, suffix))\n",
    "\n",
    "# create a synset with previous id\n",
    "synset = Synset(id)"
   ]
  },
  {
   "cell_type": "markdown",
   "metadata": {},
   "source": [
    "Add the previous synset to the wordnet."
   ]
  },
  {
   "cell_type": "code",
   "execution_count": 7,
   "metadata": {},
   "outputs": [],
   "source": [
    "wn.add_synset(synset)"
   ]
  },
  {
   "cell_type": "markdown",
   "metadata": {},
   "source": [
    "Whenever you want to modify the literals of a synset inside the wordnet you have to use the function ``reindex_literals``, so the literals have a correct internal representation. The following cell will contain functions from the 'Basic ops with a wordnet' tutorial. If you find it difficult to understand, try to read it and come back afterwards. "
   ]
  },
  {
   "cell_type": "code",
   "execution_count": 8,
   "metadata": {},
   "outputs": [
    {
     "name": "stdout",
     "output_type": "stream",
     "text": [
      "Added literal with literal 'iepure' and sense '1' to the synset 'ENG30-00006269-n'. Number of synsets containing literal 'iepure': 12\n",
      "Removed literal with literal 'iepure' from the synset 'ENG30-00006269-n'. Number of synsets containing literal 'iepure': 11\n"
     ]
    }
   ],
   "source": [
    "# create a new literal\n",
    "literal = 'iepure'\n",
    "sense = '1'\n",
    "# get a synset\n",
    "synset_id = wn.synsets()[0]\n",
    "synset = wn(synset_id)\n",
    "\n",
    "# add a new literal to wordnet\n",
    "synset.add_literal(literal, sense)\n",
    "# tell the rowordnet that synsets's literals have been changed. \n",
    "wn.reindex_literals()\n",
    "print(\"Added literal with literal '{}' and sense '{}' to the synset '{}'. \"\n",
    "      \"Number of synsets containing literal '{}': {}\"\n",
    "      .format(literal, sense, synset.id, literal, len(wn.synsets(literal))))\n",
    "\n",
    "# remove the previous literal from synset.\n",
    "synset.remove_literal(literal)\n",
    "# again, we have to tell the rowordnet that synset's literals have been changed.\n",
    "wn.reindex_literals()\n",
    "print(\"Removed literal with literal '{}' from the synset '{}'. Number of synsets containing literal '{}': {}\"\n",
    "      .format(literal, synset.id, literal, len(wn.synsets(literal))))"
   ]
  },
  {
   "cell_type": "markdown",
   "metadata": {},
   "source": [
    "Synsets are linked by relations, encoded as directed edges in a graph. We can add/remove relations between synsets by using ``add_relation`` and ``remove_relation`` functions. You have to provinde, as parameters, the ids of the synsets and the type of relation between them."
   ]
  },
  {
   "cell_type": "code",
   "execution_count": 9,
   "metadata": {},
   "outputs": [
    {
     "name": "stdout",
     "output_type": "stream",
     "text": [
      "Added new synset with id 'ENG31-00000001-n' to the rowordnet\n",
      "Added 'hypernym' relation from synset with id 'ENG30-00006269-n' to synset with id 'ENG31-00000001-n'\n",
      "Removed relation from synset with id 'ENG30-00006269-n' to synset with id 'ENG31-00000001-n'\n"
     ]
    }
   ],
   "source": [
    "# generate a new synset\n",
    "prefix = 'ENG31-'\n",
    "suffix = '-n'\n",
    "new_id = wn.generate_synset_id(prefix, suffix)\n",
    "new_synset = Synset(new_id)\n",
    "wn.add_synset(new_synset)\n",
    "print(\"Added new synset with id '{}' to the rowordnet\".format(new_synset.id))\n",
    "\n",
    "# add a relation of type 'hypernym' from 'synset' to 'new_synset'\n",
    "relation = 'hypernym'\n",
    "wn.add_relation(synset.id, new_synset.id, relation)\n",
    "print(\"Added '{}' relation from synset with id '{}' to synset with id '{}'\"\n",
    "      .format(relation, synset.id, new_synset.id))\n",
    "\n",
    "# remove relation of type 'hypernym' from 'synset' to 'new_synset'\n",
    "wn.remove_relation(synset.id, new_synset.id)\n",
    "print(\"Removed relation from synset with id '{}' to synset with id '{}'\".format(synset.id, new_synset.id))"
   ]
  }
 ],
 "metadata": {
  "kernelspec": {
   "display_name": "Python 3",
   "language": "python",
   "name": "python3"
  },
  "language_info": {
   "codemirror_mode": {
    "name": "ipython",
    "version": 3
   },
   "file_extension": ".py",
   "mimetype": "text/x-python",
   "name": "python",
   "nbconvert_exporter": "python",
   "pygments_lexer": "ipython3",
   "version": "3.6.4"
  }
 },
 "nbformat": 4,
 "nbformat_minor": 2
}
