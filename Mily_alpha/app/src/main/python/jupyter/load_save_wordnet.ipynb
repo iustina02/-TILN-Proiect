{
 "cells": [
  {
   "cell_type": "markdown",
   "metadata": {},
   "source": [
    "# Load and save wordnet\n",
    "\n",
    "This demo shows how to initialize, save and load a rowordnet object.\n",
    "\n",
    "Load from internal resources (binary)."
   ]
  },
  {
   "cell_type": "code",
   "execution_count": 1,
   "metadata": {},
   "outputs": [
    {
     "name": "stdout",
     "output_type": "stream",
     "text": [
      "Done in 3.019s\n"
     ]
    }
   ],
   "source": [
    "import time\n",
    "import rowordnet\n",
    "\n",
    "# load internal rowordnet\n",
    "start = time.perf_counter()\n",
    "wn = rowordnet.RoWordNet()\n",
    "print(\"Done in {:.3f}s\".format(time.perf_counter() - start))"
   ]
  },
  {
   "cell_type": "markdown",
   "metadata": {},
   "source": [
    "To save the wordnet in an xml format you have to set the parameter ``xml`` to ``True``. (The default is ``False``)"
   ]
  },
  {
   "cell_type": "code",
   "execution_count": 2,
   "metadata": {},
   "outputs": [
    {
     "name": "stdout",
     "output_type": "stream",
     "text": [
      "Done in 4.189s\n"
     ]
    }
   ],
   "source": [
    "# save rowordnet to xml\n",
    "start = time.perf_counter()\n",
    "wn.save(\"rowordnet.xml\", xml=True)\n",
    "print(\"Done in {:.3f}s\".format(time.perf_counter() - start))"
   ]
  },
  {
   "cell_type": "markdown",
   "metadata": {},
   "source": [
    "If you want to load from xml, again, you have to set the parameter ``xml`` to ``True``."
   ]
  },
  {
   "cell_type": "code",
   "execution_count": 3,
   "metadata": {},
   "outputs": [
    {
     "name": "stdout",
     "output_type": "stream",
     "text": [
      "Done in 4.756s\n"
     ]
    }
   ],
   "source": [
    "# load rowordnet from xml\n",
    "start = time.perf_counter()\n",
    "wn.load(\"rowordnet.xml\", xml=True)\n",
    "print(\"Done in {:.3f}s\".format(time.perf_counter() - start))"
   ]
  },
  {
   "cell_type": "markdown",
   "metadata": {},
   "source": [
    "Save the wordnet in binary."
   ]
  },
  {
   "cell_type": "code",
   "execution_count": 4,
   "metadata": {},
   "outputs": [
    {
     "name": "stdout",
     "output_type": "stream",
     "text": [
      "Done in 1.108s\n"
     ]
    }
   ],
   "source": [
    "# save rowordnet to binary\n",
    "start = time.perf_counter()\n",
    "wn.save(\"rowordnet.pickle\")\n",
    "print(\"Done in {:.3f}s\".format(time.perf_counter()-start))"
   ]
  },
  {
   "cell_type": "markdown",
   "metadata": {},
   "source": [
    "Load the wordnet from binary."
   ]
  },
  {
   "cell_type": "code",
   "execution_count": 5,
   "metadata": {},
   "outputs": [
    {
     "name": "stdout",
     "output_type": "stream",
     "text": [
      "Done in 2.716s\n"
     ]
    }
   ],
   "source": [
    "# load rowordnet from binary\n",
    "start = time.perf_counter()\n",
    "wn.load(\"rowordnet.pickle\")\n",
    "print(\"Done in {:.3f}s\".format(time.perf_counter() - start))"
   ]
  }
 ],
 "metadata": {
  "kernelspec": {
   "display_name": "Python 3",
   "language": "python",
   "name": "python3"
  },
  "language_info": {
   "codemirror_mode": {
    "name": "ipython",
    "version": 3
   },
   "file_extension": ".py",
   "mimetype": "text/x-python",
   "name": "python",
   "nbconvert_exporter": "python",
   "pygments_lexer": "ipython3",
   "version": "3.6.4"
  }
 },
 "nbformat": 4,
 "nbformat_minor": 2
}
