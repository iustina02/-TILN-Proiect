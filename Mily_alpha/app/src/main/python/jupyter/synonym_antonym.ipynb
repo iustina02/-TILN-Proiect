{
 "cells": [
  {
   "cell_type": "markdown",
   "metadata": {},
   "source": [
    "# Extract the synonyms and antonyms\n",
    "\n",
    "This demo shows a bit more advanced series of ops. We would like to extract a list of synonyms and antonyms from all the nouns in RoWordNet.\n",
    "\n",
    "We first extract synonyms directly from synsets. We list all noun synsets then iterate through them and create pairs from each synset."
   ]
  },
  {
   "cell_type": "code",
   "execution_count": 1,
   "metadata": {},
   "outputs": [
    {
     "name": "stdout",
     "output_type": "stream",
     "text": [
      "List of the first 5 synonyms: (144387 total synonym pairs extracted)\n",
      "                   plantă == vegetală\n",
      "    trăsătură_psihologică == trăsătură\n",
      "    trăsătură_psihologică == psihologică\n",
      "                trăsătură == psihologică\n",
      "          relație_socială == relație\n"
     ]
    }
   ],
   "source": [
    "import itertools\n",
    "import rowordnet\n",
    "\n",
    "wn = rowordnet.RoWordNet()\n",
    "\n",
    "synonyms = []\n",
    "synsets_id = wn.synsets()\n",
    "# for each synset, we create a list of synonyms between its literals\n",
    "for synset_id in synsets_id:\n",
    "    # the literals object is a dict, but we need only the\n",
    "    # actual literals (not senses)\n",
    "    synset = wn(synset_id)\n",
    "    literals = list(synset.literals)\n",
    "    for i in range(len(literals)):\n",
    "        for j in range(i+1, len(literals)):\n",
    "            # append a tuple containing a pair of synonym literals\n",
    "            synonyms.append((literals[i], literals[j]))\n",
    "\n",
    "# list a few synonyms\n",
    "print(\"List of the first 5 synonyms: ({} total synonym pairs extracted)\".format(len(synonyms)))\n",
    "for i in range(5):\n",
    "    print(\"{:>25} == {}\".format(synonyms[i][0], synonyms[i][1]))"
   ]
  },
  {
   "cell_type": "markdown",
   "metadata": {},
   "source": [
    "We now want to extract antonyms. We look at all the antonymy relations and then for each pair of synsets in this relation we generate a cartesian product between their literals."
   ]
  },
  {
   "cell_type": "code",
   "execution_count": 2,
   "metadata": {},
   "outputs": [
    {
     "name": "stdout",
     "output_type": "stream",
     "text": [
      "List of the first 5 antonyms: (7185 total antonym pairs extracted)\n",
      "                   femelă != mascul\n",
      "                   femelă != parte_bărbătească\n",
      "                   femelă != parte\n",
      "                   femelă != bărbătească\n",
      "          parte_femeiască != mascul\n"
     ]
    }
   ],
   "source": [
    "# extract all the antonymy relations from the graph and create a\n",
    "# list of synset pairs\n",
    "synset_pairs = []\n",
    "antonyms = []\n",
    "\n",
    "synsets_id = wn.synsets()  # extract all synsets\n",
    "for synset_id in synsets_id:\n",
    "    synset = wn(synset_id)\n",
    "    # extract the antonyms of a synset\n",
    "    synset_outbound_id = wn.outbound_relations(synset.id)\n",
    "    synset_antonyms_id = [synset_tuple[0] for synset_tuple in synset_outbound_id\n",
    "                              if synset_tuple[1] == 'near_antonym']\n",
    "\n",
    "    for synset_antonym_id in synset_antonyms_id:  # for each antonym synset\n",
    "        synset_antonym = wn(synset_antonym_id)\n",
    "        # if the antonymy pair doesn't already exists\n",
    "        if (synset_antonym, synset) not in synset_pairs:\n",
    "            # add the antonym tuple to the list\n",
    "            synset_pairs.append((synset, synset_antonym))\n",
    "\n",
    "# for each synset pair extract its literals, so we now have a list of\n",
    "# pairs of literals\n",
    "literal_pairs = []\n",
    "for synset_pair in synset_pairs:\n",
    "    # extract the literals of the first synset in the pair\n",
    "    synset1_literals = list(synset_pair[0].literals)\n",
    "    # extract the literals of the second synset in the pair\n",
    "    synset2_literals = list(synset_pair[1].literals)\n",
    "    # add a tuple containing the literals of each synset\n",
    "    literal_pairs.append((synset1_literals, synset2_literals))\n",
    "\n",
    "# for each literals pair, we generate the cartesian product between them\n",
    "for literal_pair in literal_pairs:\n",
    "    for antonym_tuple in itertools.product(literal_pair[0], literal_pair[1]):\n",
    "        antonyms.append(antonym_tuple)\n",
    "\n",
    "# list a few antonyms\n",
    "print(\"List of the first 5 antonyms: ({} total antonym pairs extracted)\".format(len(antonyms)))\n",
    "for i in range(5):\n",
    "    print(\"{:>25} != {}\".format(antonyms[i][0], antonyms[i][1]))"
   ]
  }
 ],
 "metadata": {
  "kernelspec": {
   "display_name": "Python 3",
   "language": "python",
   "name": "python3"
  },
  "language_info": {
   "codemirror_mode": {
    "name": "ipython",
    "version": 3
   },
   "file_extension": ".py",
   "mimetype": "text/x-python",
   "name": "python",
   "nbconvert_exporter": "python",
   "pygments_lexer": "ipython3",
   "version": "3.6.4"
  }
 },
 "nbformat": 4,
 "nbformat_minor": 2
}
